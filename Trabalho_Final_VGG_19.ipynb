{
  "nbformat": 4,
  "nbformat_minor": 0,
  "metadata": {
    "anaconda-cloud": {},
    "kernelspec": {
      "name": "python3",
      "display_name": "Python 3"
    },
    "language_info": {
      "codemirror_mode": {
        "name": "ipython",
        "version": 3
      },
      "file_extension": ".py",
      "mimetype": "text/x-python",
      "name": "python",
      "nbconvert_exporter": "python",
      "pygments_lexer": "ipython3",
      "version": "3.6.4"
    },
    "colab": {
      "name": "Trabalho Final - VGG-19",
      "provenance": [],
      "collapsed_sections": []
    },
    "accelerator": "GPU"
  },
  "cells": [
    {
      "cell_type": "markdown",
      "metadata": {
        "id": "L5DvYJ1LBiZl",
        "colab_type": "text"
      },
      "source": [
        "Importar bibliotecas"
      ]
    },
    {
      "cell_type": "code",
      "metadata": {
        "id": "ZDPcRVzTBbzd",
        "colab_type": "code",
        "colab": {}
      },
      "source": [
        "from __future__ import division, print_function\n",
        "from torchvision import datasets, models, transforms\n",
        "import copy\n",
        "import matplotlib.pyplot as plt\n",
        "import numpy as np\n",
        "import os\n",
        "import shutil\n",
        "import time\n",
        "import torch\n",
        "import torch.nn as nn\n",
        "import torch.optim as optim\n",
        "import torchvision\n",
        "import zipfile"
      ],
      "execution_count": 0,
      "outputs": []
    },
    {
      "cell_type": "markdown",
      "metadata": {
        "id": "yVBEM95CoYPi",
        "colab_type": "text"
      },
      "source": [
        "Montar Google Drive"
      ]
    },
    {
      "cell_type": "code",
      "metadata": {
        "id": "mJSR2JInnoGC",
        "colab_type": "code",
        "colab": {
          "base_uri": "https://localhost:8080/",
          "height": 134
        },
        "outputId": "29cf0846-fae3-489c-99f7-2bf74d0a02a2"
      },
      "source": [
        "from google.colab import drive\n",
        "drive.mount('/content/drive')"
      ],
      "execution_count": 61,
      "outputs": [
        {
          "output_type": "stream",
          "text": [
            "Go to this URL in a browser: https://accounts.google.com/o/oauth2/auth?client_id=947318989803-6bn6qk8qdgf4n4g3pfee6491hc0brc4i.apps.googleusercontent.com&redirect_uri=urn%3aietf%3awg%3aoauth%3a2.0%3aoob&response_type=code&scope=email%20https%3a%2f%2fwww.googleapis.com%2fauth%2fdocs.test%20https%3a%2f%2fwww.googleapis.com%2fauth%2fdrive%20https%3a%2f%2fwww.googleapis.com%2fauth%2fdrive.photos.readonly%20https%3a%2f%2fwww.googleapis.com%2fauth%2fpeopleapi.readonly\n",
            "\n",
            "Enter your authorization code:\n",
            "··········\n",
            "Mounted at /content/drive\n"
          ],
          "name": "stdout"
        }
      ]
    },
    {
      "cell_type": "markdown",
      "metadata": {
        "id": "igKtMZLzkV3V",
        "colab_type": "text"
      },
      "source": [
        "Definir constantes"
      ]
    },
    {
      "cell_type": "code",
      "metadata": {
        "id": "ZVaQnzaejWe_",
        "colab_type": "code",
        "colab": {
          "base_uri": "https://localhost:8080/",
          "height": 36
        },
        "outputId": "87a21334-418f-457c-b87e-95435fb0e519"
      },
      "source": [
        "DEVICE = torch.device('cuda:0' if torch.cuda.is_available() else 'cpu')\n",
        "\n",
        "ZIP_FILE_PATH = './dataset.zip'\n",
        "DATASET_PATH = './dataset'\n",
        "\n",
        "INCEPTION = 'inception'\n",
        "VGG19 = 'vgg-19'\n",
        "MODEL = VGG19 # Define o tipo de modelo a ser usado.\n",
        "IMG_SIZE = {\n",
        "  INCEPTION: 299,\n",
        "  VGG19: 224,\n",
        "}[MODEL]\n",
        "NORMALIZE_MEAN = [0.485, 0.456, 0.406]\n",
        "NORMALIZE_STD = [0.229, 0.224, 0.225]\n",
        "\n",
        "BATCH_SIZE = 4\n",
        "NUM_WORKERS = 4\n",
        "\n",
        "TRAIN = 'train'\n",
        "VAL = 'val'\n",
        "TEST = 'test'\n",
        "PHASES = {\n",
        "  TRAIN: 'train',\n",
        "  VAL: 'val',\n",
        "  TEST: 'test',\n",
        "}\n",
        "\n",
        "print(DEVICE)"
      ],
      "execution_count": 51,
      "outputs": [
        {
          "output_type": "stream",
          "text": [
            "cuda:0\n"
          ],
          "name": "stdout"
        }
      ]
    },
    {
      "cell_type": "markdown",
      "metadata": {
        "id": "hED2-o0qlkFS",
        "colab_type": "text"
      },
      "source": [
        "Limpar diretorio do dataset\n"
      ]
    },
    {
      "cell_type": "code",
      "metadata": {
        "id": "rD86QKu1fbMp",
        "colab_type": "code",
        "colab": {}
      },
      "source": [
        "shutil.rmtree(DATASET_PATH)"
      ],
      "execution_count": 0,
      "outputs": []
    },
    {
      "cell_type": "markdown",
      "metadata": {
        "id": "RjIc6C35Ad_T",
        "colab_type": "text"
      },
      "source": [
        "Extrair dataset"
      ]
    },
    {
      "cell_type": "code",
      "metadata": {
        "id": "-aOeij2IROfl",
        "colab_type": "code",
        "colab": {}
      },
      "source": [
        "zip_file = zipfile.ZipFile(ZIP_FILE_PATH)\n",
        "zip_file.extractall()\n",
        "zip_file.close()"
      ],
      "execution_count": 0,
      "outputs": []
    },
    {
      "cell_type": "markdown",
      "metadata": {
        "id": "-TsYiwlmBDpU",
        "colab_type": "text"
      },
      "source": [
        "Carregar dataset"
      ]
    },
    {
      "cell_type": "code",
      "metadata": {
        "id": "M8fzT0Aoa4up",
        "colab_type": "code",
        "colab": {
          "base_uri": "https://localhost:8080/",
          "height": 618
        },
        "outputId": "567faa33-5873-498e-eeb8-53719869409c"
      },
      "source": [
        "# Augmentacao de dados para treinamento,\n",
        "# apenas normalizacao para validacao e teste.\n",
        "data_transforms = {\n",
        "  TRAIN: transforms.Compose([\n",
        "    transforms.Resize(IMG_SIZE),\n",
        "    transforms.RandomHorizontalFlip(),\n",
        "    transforms.RandomRotation(15),\n",
        "    transforms.ToTensor(),\n",
        "    transforms.Normalize(NORMALIZE_MEAN, NORMALIZE_STD),\n",
        "  ]),\n",
        "  VAL: transforms.Compose([\n",
        "    transforms.Resize(IMG_SIZE),\n",
        "    transforms.ToTensor(),\n",
        "    transforms.Normalize(NORMALIZE_MEAN, NORMALIZE_STD),\n",
        "  ]),\n",
        "  TEST: transforms.Compose([\n",
        "    transforms.Resize(IMG_SIZE),\n",
        "    transforms.ToTensor(),\n",
        "    transforms.Normalize(NORMALIZE_MEAN, NORMALIZE_STD),\n",
        "  ]),\n",
        "}\n",
        "data_sets = {\n",
        "  phase: datasets.ImageFolder(\n",
        "    os.path.join(DATASET_PATH, PHASES[phase]),\n",
        "    data_transforms[phase],\n",
        "  ) for phase in PHASES\n",
        "}\n",
        "data_loaders = {\n",
        "  phase: torch.utils.data.DataLoader(\n",
        "    data_sets[phase],\n",
        "    batch_size = BATCH_SIZE,\n",
        "    shuffle = True,\n",
        "    num_workers = NUM_WORKERS,\n",
        "  ) for phase in PHASES\n",
        "}\n",
        "data_sizes = {\n",
        "  phase: len(data_sets[phase]) for phase in PHASES\n",
        "}\n",
        "class_names = data_sets[TRAIN].classes\n",
        "\n",
        "print(data_sets)\n",
        "print(data_loaders)\n",
        "print(data_sizes)\n",
        "print(class_names)"
      ],
      "execution_count": 54,
      "outputs": [
        {
          "output_type": "stream",
          "text": [
            "{'train': Dataset ImageFolder\n",
            "    Number of datapoints: 8984\n",
            "    Root location: ./dataset/train\n",
            "    StandardTransform\n",
            "Transform: Compose(\n",
            "               Resize(size=224, interpolation=PIL.Image.BILINEAR)\n",
            "               RandomHorizontalFlip(p=0.5)\n",
            "               RandomRotation(degrees=(-15, 15), resample=False, expand=False)\n",
            "               ToTensor()\n",
            "               Normalize(mean=[0.485, 0.456, 0.406], std=[0.229, 0.224, 0.225])\n",
            "           ), 'val': Dataset ImageFolder\n",
            "    Number of datapoints: 1492\n",
            "    Root location: ./dataset/val\n",
            "    StandardTransform\n",
            "Transform: Compose(\n",
            "               Resize(size=224, interpolation=PIL.Image.BILINEAR)\n",
            "               ToTensor()\n",
            "               Normalize(mean=[0.485, 0.456, 0.406], std=[0.229, 0.224, 0.225])\n",
            "           ), 'test': Dataset ImageFolder\n",
            "    Number of datapoints: 1492\n",
            "    Root location: ./dataset/test\n",
            "    StandardTransform\n",
            "Transform: Compose(\n",
            "               Resize(size=224, interpolation=PIL.Image.BILINEAR)\n",
            "               ToTensor()\n",
            "               Normalize(mean=[0.485, 0.456, 0.406], std=[0.229, 0.224, 0.225])\n",
            "           )}\n",
            "{'train': <torch.utils.data.dataloader.DataLoader object at 0x7f7e8b90a3c8>, 'val': <torch.utils.data.dataloader.DataLoader object at 0x7f7e8b90a630>, 'test': <torch.utils.data.dataloader.DataLoader object at 0x7f7e8b90a710>}\n",
            "{'train': 8984, 'val': 1492, 'test': 1492}\n",
            "['mask', 'no-mask']\n"
          ],
          "name": "stdout"
        }
      ]
    },
    {
      "cell_type": "markdown",
      "metadata": {
        "id": "DjAryw5FBLCz",
        "colab_type": "text"
      },
      "source": [
        "Helper functions"
      ]
    },
    {
      "cell_type": "code",
      "metadata": {
        "id": "XnxiQXQyOwGd",
        "colab_type": "code",
        "colab": {}
      },
      "source": [
        "# Exibe uma imagem a partir de um Tensor.\n",
        "def imshow(data):\n",
        "  mean = np.array(NORMALIZE_MEAN)\n",
        "  std = np.array(NORMALIZE_STD)\n",
        "  image = data.numpy().transpose((1, 2, 0))\n",
        "  image = std * image + mean\n",
        "  image = np.clip(image, 0, 1)\n",
        "  plt.imshow(image)"
      ],
      "execution_count": 0,
      "outputs": []
    },
    {
      "cell_type": "code",
      "metadata": {
        "id": "Qn-LJBmzJvwb",
        "colab_type": "code",
        "colab": {}
      },
      "source": [
        "# Treina o modelo e retorna o modelo treinado.\n",
        "def train_model(model_type, model, optimizer, criterion, num_epochs = 25):\n",
        "  start_time = time.time()\n",
        "\n",
        "  num_epochs_without_improvement = 0\n",
        "\n",
        "  best_acc = 0.0\n",
        "  best_model = copy.deepcopy(model.state_dict())\n",
        "  torch.save(best_model, 'model.pth')\n",
        "\n",
        "  for epoch in range(num_epochs):\n",
        "    print('Epoch {}/{} ...'.format(epoch + 1, num_epochs))\n",
        "\n",
        "    for phase in PHASES:\n",
        "      if phase == TRAIN:\n",
        "        model.train()\n",
        "      elif phase == VAL:\n",
        "        model.eval()\n",
        "      else:\n",
        "        continue\n",
        "\n",
        "      running_loss = 0.0\n",
        "      running_corrects = 0\n",
        "\n",
        "      for data, labels in data_loaders[phase]:\n",
        "        data = data.to(DEVICE)\n",
        "        labels = labels.to(DEVICE)\n",
        "\n",
        "        optimizer.zero_grad()\n",
        "\n",
        "        with torch.set_grad_enabled(phase == TRAIN):\n",
        "          outputs = model(data)\n",
        "          if phase == TRAIN and model_type == INCEPTION:\n",
        "            outputs = outputs.logits\n",
        "          _, preds = torch.max(outputs, 1)\n",
        "          loss = criterion(outputs, labels)\n",
        "\n",
        "          if phase == TRAIN:\n",
        "            loss.backward()\n",
        "            optimizer.step()\n",
        "\n",
        "        running_loss += loss.item() * data.size(0)\n",
        "        running_corrects += torch.sum(preds == labels.data)\n",
        "\n",
        "      epoch_loss = running_loss / data_sizes[phase]\n",
        "      epoch_acc = running_corrects.double() / data_sizes[phase]\n",
        "\n",
        "      print('{} => Loss: {:.4f}, Acc: {:.4f}'.format(phase, epoch_loss, epoch_acc))\n",
        "\n",
        "      if phase == VAL:\n",
        "        if epoch_acc > best_acc:\n",
        "          num_epochs_without_improvement = 0\n",
        "          best_acc = epoch_acc\n",
        "          best_model = copy.deepcopy(model.state_dict())\n",
        "          torch.save(best_model, 'model.pth')\n",
        "        else:\n",
        "          num_epochs_without_improvement += 1\n",
        "    \n",
        "    if num_epochs_without_improvement == 50:\n",
        "      print('Exiting early...')\n",
        "      break\n",
        "\n",
        "  elapsed_time = time.time() - start_time\n",
        "  print('Took {:.0f}m {:.0f}s'.format(elapsed_time // 60, elapsed_time % 60))\n",
        "  print('Best Acc: {:4f}'.format(best_acc))\n",
        "\n",
        "  model.load_state_dict(best_model)\n",
        "\n",
        "  return model"
      ],
      "execution_count": 0,
      "outputs": []
    },
    {
      "cell_type": "code",
      "metadata": {
        "id": "C7ugMykmLQ8W",
        "colab_type": "code",
        "colab": {}
      },
      "source": [
        "# Visualiza algumas predicoes do modelo.\n",
        "def visualize_model(model, num_images = 6):\n",
        "  was_training = model.training\n",
        "\n",
        "  model.eval()\n",
        "\n",
        "  fig = plt.figure()\n",
        "  images_so_far = 0\n",
        "\n",
        "  with torch.no_grad():\n",
        "    for i, (data, labels) in enumerate(data_loaders[TEST]):\n",
        "      data = data.to(DEVICE)\n",
        "      labels = labels.to(DEVICE)\n",
        "\n",
        "      outputs = model(data)\n",
        "      _, preds = torch.max(outputs, 1)\n",
        "\n",
        "      for j in range(data.size()[0]):\n",
        "        images_so_far += 1\n",
        "        ax = plt.subplot(num_images // 2, 2, images_so_far)\n",
        "        ax.axis('off')\n",
        "        ax.set_title('Predicted: {}'.format(class_names[preds[j]]))\n",
        "        imshow(data.cpu().data[j])\n",
        "\n",
        "        if images_so_far == num_images:\n",
        "          model.train(mode = was_training)\n",
        "          return\n",
        "\n",
        "    model.train(mode = was_training)"
      ],
      "execution_count": 0,
      "outputs": []
    },
    {
      "cell_type": "code",
      "metadata": {
        "id": "_MrMaUnKoFsH",
        "colab_type": "code",
        "colab": {}
      },
      "source": [
        "# Testa o modelo.\n",
        "def test_model(model, criterion):\n",
        "  was_training = model.training\n",
        "\n",
        "  model.eval()\n",
        "\n",
        "  running_loss = 0.0\n",
        "  running_corrects = 0\n",
        "\n",
        "  with torch.no_grad():\n",
        "    for data, labels in data_loaders[TEST]:\n",
        "      data = data.to(DEVICE)\n",
        "      labels = labels.to(DEVICE)\n",
        "\n",
        "      outputs = model(data)\n",
        "      _, preds = torch.max(outputs, 1)\n",
        "      loss = criterion(outputs, labels)\n",
        "\n",
        "      running_loss += loss.item() * data.size(0)\n",
        "      running_corrects += torch.sum(preds == labels.data)\n",
        "\n",
        "  loss = running_loss / data_sizes[TEST]\n",
        "  acc = running_corrects.double() / data_sizes[TEST]\n",
        "\n",
        "  print('Loss: {:4f}, Acc: {:4f}'.format(loss, acc))\n",
        "\n",
        "  model.train(mode = was_training)"
      ],
      "execution_count": 0,
      "outputs": []
    },
    {
      "cell_type": "markdown",
      "metadata": {
        "id": "pexSRioiBFqi",
        "colab_type": "text"
      },
      "source": [
        "Exibir amostra do dataset"
      ]
    },
    {
      "cell_type": "code",
      "metadata": {
        "id": "cTugyfETPBKg",
        "colab_type": "code",
        "outputId": "2bc74663-c8b8-452e-b83e-599ceaa75771",
        "colab": {
          "base_uri": "https://localhost:8080/",
          "height": 136
        }
      },
      "source": [
        "data, labels = next(iter(data_loaders[TRAIN]))\n",
        "grid = torchvision.utils.make_grid(data)\n",
        "imshow(grid)"
      ],
      "execution_count": 59,
      "outputs": [
        {
          "output_type": "display_data",
          "data": {
            "image/png": "[encoded data removed]",
            "text/plain": [
              "<Figure size 432x288 with 1 Axes>"
            ]
          },
          "metadata": {
            "tags": [],
            "needs_background": "light"
          }
        }
      ]
    },
    {
      "cell_type": "markdown",
      "metadata": {
        "id": "_Uaqq3QQlXSB",
        "colab_type": "text"
      },
      "source": [
        "Definir modelo"
      ]
    },
    {
      "cell_type": "code",
      "metadata": {
        "id": "3R_grNzcLbMR",
        "colab_type": "code",
        "colab": {
          "base_uri": "https://localhost:8080/",
          "height": 1000
        },
        "outputId": "e169b37d-7e1b-415b-8cab-9ef22b7c1990"
      },
      "source": [
        "if MODEL == INCEPTION:\n",
        "  model = models.inception_v3(pretrained = True, progress = True)\n",
        "\n",
        "  print(model.fc)\n",
        "\n",
        "  for param in model.parameters():\n",
        "    param.requires_grad = False\n",
        "  \n",
        "  num_features = model.fc.in_features\n",
        "  model.fc = nn.Linear(num_features, len(class_names))\n",
        "  model = model.to(DEVICE)\n",
        "  optimizer = optim.SGD(model.fc.parameters(), lr = 0.001, momentum = 0.9)\n",
        "elif MODEL == VGG19:\n",
        "  model = models.vgg19(pretrained = True, progress = True)\n",
        "\n",
        "  print(model.classifier[6])\n",
        "\n",
        "  for param in model.parameters():\n",
        "    param.requires_grad = False\n",
        "  \n",
        "  num_features = model.classifier[6].in_features\n",
        "  model.classifier[6] = nn.Linear(num_features, len(class_names))\n",
        "  model = model.to(DEVICE)\n",
        "  optimizer = optim.SGD(model.classifier[6].parameters(), lr = 0.001, momentum = 0.9)\n",
        "else:\n",
        "  print('ERRO: Nenhum tipo de modelo definido!')\n",
        "\n",
        "criterion = nn.CrossEntropyLoss()\n",
        "\n",
        "print(model)"
      ],
      "execution_count": 60,
      "outputs": [
        {
          "output_type": "stream",
          "text": [
            "Linear(in_features=4096, out_features=1000, bias=True)\n",
            "VGG(\n",
            "  (features): Sequential(\n",
            "    (0): Conv2d(3, 64, kernel_size=(3, 3), stride=(1, 1), padding=(1, 1))\n",
            "    (1): ReLU(inplace=True)\n",
            "    (2): Conv2d(64, 64, kernel_size=(3, 3), stride=(1, 1), padding=(1, 1))\n",
            "    (3): ReLU(inplace=True)\n",
            "    (4): MaxPool2d(kernel_size=2, stride=2, padding=0, dilation=1, ceil_mode=False)\n",
            "    (5): Conv2d(64, 128, kernel_size=(3, 3), stride=(1, 1), padding=(1, 1))\n",
            "    (6): ReLU(inplace=True)\n",
            "    (7): Conv2d(128, 128, kernel_size=(3, 3), stride=(1, 1), padding=(1, 1))\n",
            "    (8): ReLU(inplace=True)\n",
            "    (9): MaxPool2d(kernel_size=2, stride=2, padding=0, dilation=1, ceil_mode=False)\n",
            "    (10): Conv2d(128, 256, kernel_size=(3, 3), stride=(1, 1), padding=(1, 1))\n",
            "    (11): ReLU(inplace=True)\n",
            "    (12): Conv2d(256, 256, kernel_size=(3, 3), stride=(1, 1), padding=(1, 1))\n",
            "    (13): ReLU(inplace=True)\n",
            "    (14): Conv2d(256, 256, kernel_size=(3, 3), stride=(1, 1), padding=(1, 1))\n",
            "    (15): ReLU(inplace=True)\n",
            "    (16): Conv2d(256, 256, kernel_size=(3, 3), stride=(1, 1), padding=(1, 1))\n",
            "    (17): ReLU(inplace=True)\n",
            "    (18): MaxPool2d(kernel_size=2, stride=2, padding=0, dilation=1, ceil_mode=False)\n",
            "    (19): Conv2d(256, 512, kernel_size=(3, 3), stride=(1, 1), padding=(1, 1))\n",
            "    (20): ReLU(inplace=True)\n",
            "    (21): Conv2d(512, 512, kernel_size=(3, 3), stride=(1, 1), padding=(1, 1))\n",
            "    (22): ReLU(inplace=True)\n",
            "    (23): Conv2d(512, 512, kernel_size=(3, 3), stride=(1, 1), padding=(1, 1))\n",
            "    (24): ReLU(inplace=True)\n",
            "    (25): Conv2d(512, 512, kernel_size=(3, 3), stride=(1, 1), padding=(1, 1))\n",
            "    (26): ReLU(inplace=True)\n",
            "    (27): MaxPool2d(kernel_size=2, stride=2, padding=0, dilation=1, ceil_mode=False)\n",
            "    (28): Conv2d(512, 512, kernel_size=(3, 3), stride=(1, 1), padding=(1, 1))\n",
            "    (29): ReLU(inplace=True)\n",
            "    (30): Conv2d(512, 512, kernel_size=(3, 3), stride=(1, 1), padding=(1, 1))\n",
            "    (31): ReLU(inplace=True)\n",
            "    (32): Conv2d(512, 512, kernel_size=(3, 3), stride=(1, 1), padding=(1, 1))\n",
            "    (33): ReLU(inplace=True)\n",
            "    (34): Conv2d(512, 512, kernel_size=(3, 3), stride=(1, 1), padding=(1, 1))\n",
            "    (35): ReLU(inplace=True)\n",
            "    (36): MaxPool2d(kernel_size=2, stride=2, padding=0, dilation=1, ceil_mode=False)\n",
            "  )\n",
            "  (avgpool): AdaptiveAvgPool2d(output_size=(7, 7))\n",
            "  (classifier): Sequential(\n",
            "    (0): Linear(in_features=25088, out_features=4096, bias=True)\n",
            "    (1): ReLU(inplace=True)\n",
            "    (2): Dropout(p=0.5, inplace=False)\n",
            "    (3): Linear(in_features=4096, out_features=4096, bias=True)\n",
            "    (4): ReLU(inplace=True)\n",
            "    (5): Dropout(p=0.5, inplace=False)\n",
            "    (6): Linear(in_features=4096, out_features=2, bias=True)\n",
            "  )\n",
            ")\n"
          ],
          "name": "stdout"
        }
      ]
    },
    {
      "cell_type": "markdown",
      "metadata": {
        "id": "vduT5dPNlRti",
        "colab_type": "text"
      },
      "source": [
        "Treinar modelo"
      ]
    },
    {
      "cell_type": "code",
      "metadata": {
        "id": "ccUeocMPNTrg",
        "colab_type": "code",
        "outputId": "6082c194-bae0-455c-be16-419dc9d027c4",
        "colab": {
          "base_uri": "https://localhost:8080/",
          "height": 1000
        }
      },
      "source": [
        "model = train_model(MODEL, model, optimizer, criterion)"
      ],
      "execution_count": 39,
      "outputs": [
        {
          "output_type": "stream",
          "text": [
            "Epoch 1/25 ...\n",
            "train => Loss: 0.2408, Acc: 0.9290\n",
            "val => Loss: 0.0465, Acc: 0.9873\n",
            "Epoch 2/25 ...\n",
            "train => Loss: 0.2668, Acc: 0.9349\n",
            "val => Loss: 0.0503, Acc: 0.9846\n",
            "Epoch 3/25 ...\n",
            "train => Loss: 0.2629, Acc: 0.9396\n",
            "val => Loss: 0.0587, Acc: 0.9859\n",
            "Epoch 4/25 ...\n",
            "train => Loss: 0.2539, Acc: 0.9426\n",
            "val => Loss: 0.0474, Acc: 0.9873\n",
            "Epoch 5/25 ...\n",
            "train => Loss: 0.2492, Acc: 0.9435\n",
            "val => Loss: 0.0945, Acc: 0.9779\n",
            "Epoch 6/25 ...\n",
            "train => Loss: 0.2480, Acc: 0.9487\n",
            "val => Loss: 0.0662, Acc: 0.9819\n",
            "Epoch 7/25 ...\n",
            "train => Loss: 0.2377, Acc: 0.9498\n",
            "val => Loss: 0.1097, Acc: 0.9786\n",
            "Epoch 8/25 ...\n",
            "train => Loss: 0.2525, Acc: 0.9477\n",
            "val => Loss: 0.0424, Acc: 0.9913\n",
            "Epoch 9/25 ...\n",
            "train => Loss: 0.2601, Acc: 0.9478\n",
            "val => Loss: 0.0372, Acc: 0.9926\n",
            "Epoch 10/25 ...\n",
            "train => Loss: 0.2743, Acc: 0.9437\n",
            "val => Loss: 0.0907, Acc: 0.9772\n",
            "Epoch 11/25 ...\n",
            "train => Loss: 0.2360, Acc: 0.9533\n",
            "val => Loss: 0.0644, Acc: 0.9859\n",
            "Epoch 12/25 ...\n",
            "train => Loss: 0.2275, Acc: 0.9515\n",
            "val => Loss: 0.0505, Acc: 0.9866\n",
            "Epoch 13/25 ...\n",
            "train => Loss: 0.2360, Acc: 0.9520\n",
            "val => Loss: 0.0418, Acc: 0.9920\n",
            "Epoch 14/25 ...\n",
            "train => Loss: 0.2497, Acc: 0.9516\n",
            "val => Loss: 0.0900, Acc: 0.9786\n",
            "Epoch 15/25 ...\n",
            "train => Loss: 0.2713, Acc: 0.9469\n",
            "val => Loss: 0.1703, Acc: 0.9651\n",
            "Epoch 16/25 ...\n",
            "train => Loss: 0.2539, Acc: 0.9475\n",
            "val => Loss: 0.0613, Acc: 0.9832\n",
            "Epoch 17/25 ...\n",
            "train => Loss: 0.2437, Acc: 0.9501\n",
            "val => Loss: 0.0747, Acc: 0.9832\n",
            "Epoch 18/25 ...\n",
            "train => Loss: 0.2508, Acc: 0.9519\n",
            "val => Loss: 0.1083, Acc: 0.9739\n",
            "Epoch 19/25 ...\n",
            "train => Loss: 0.2484, Acc: 0.9518\n",
            "val => Loss: 0.0552, Acc: 0.9859\n",
            "Epoch 20/25 ...\n",
            "train => Loss: 0.2317, Acc: 0.9540\n",
            "val => Loss: 0.1751, Acc: 0.9625\n",
            "Epoch 21/25 ...\n",
            "train => Loss: 0.2757, Acc: 0.9468\n",
            "val => Loss: 0.1030, Acc: 0.9786\n",
            "Epoch 22/25 ...\n",
            "train => Loss: 0.2676, Acc: 0.9481\n",
            "val => Loss: 0.0515, Acc: 0.9886\n",
            "Epoch 23/25 ...\n",
            "train => Loss: 0.2554, Acc: 0.9522\n",
            "val => Loss: 0.0743, Acc: 0.9826\n",
            "Epoch 24/25 ...\n",
            "train => Loss: 0.2565, Acc: 0.9511\n",
            "val => Loss: 0.0489, Acc: 0.9886\n",
            "Epoch 25/25 ...\n",
            "train => Loss: 0.2453, Acc: 0.9553\n",
            "val => Loss: 0.0501, Acc: 0.9893\n",
            "Took 21m 58s\n",
            "Best Acc: 0.992627\n"
          ],
          "name": "stdout"
        }
      ]
    },
    {
      "cell_type": "markdown",
      "metadata": {
        "id": "Mxc3PFwblPZF",
        "colab_type": "text"
      },
      "source": [
        "Visualizar modelo"
      ]
    },
    {
      "cell_type": "code",
      "metadata": {
        "id": "OrNQGtvqPBsh",
        "colab_type": "code",
        "outputId": "a525886a-d516-4350-abc7-4d5378af6ffe",
        "colab": {
          "base_uri": "https://localhost:8080/",
          "height": 264
        }
      },
      "source": [
        "visualize_model(model)"
      ],
      "execution_count": 47,
      "outputs": [
        {
          "output_type": "display_data",
          "data": {
            "image/png": "[encoded data removed]",
            "text/plain": [
              "<Figure size 432x288 with 6 Axes>"
            ]
          },
          "metadata": {
            "tags": [],
            "needs_background": "light"
          }
        }
      ]
    },
    {
      "cell_type": "markdown",
      "metadata": {
        "id": "7gcCpc4ClNWD",
        "colab_type": "text"
      },
      "source": [
        "Testar modelo"
      ]
    },
    {
      "cell_type": "code",
      "metadata": {
        "id": "fwXBzauQqnGg",
        "colab_type": "code",
        "outputId": "9795fd9f-e832-47f8-af60-afe4c54b3784",
        "colab": {
          "base_uri": "https://localhost:8080/",
          "height": 36
        }
      },
      "source": [
        "model.load_state_dict(torch.load('model.pth'))\n",
        "test_model(model, criterion)"
      ],
      "execution_count": 48,
      "outputs": [
        {
          "output_type": "stream",
          "text": [
            "Loss: 0.101816, Acc: 0.980563\n"
          ],
          "name": "stdout"
        }
      ]
    },
    {
      "cell_type": "markdown",
      "metadata": {
        "id": "xoznDqcSlKZv",
        "colab_type": "text"
      },
      "source": [
        "Salvar modelo para CPU"
      ]
    },
    {
      "cell_type": "code",
      "metadata": {
        "id": "7b7PDKMTK9JT",
        "colab_type": "code",
        "colab": {}
      },
      "source": [
        "model = model.cpu()\n",
        "torch.save(model.state_dict(), 'model-cpu.pth')"
      ],
      "execution_count": 0,
      "outputs": []
    },
    {
      "cell_type": "markdown",
      "metadata": {
        "id": "tFVKqcKRoSPG",
        "colab_type": "text"
      },
      "source": [
        "Salvar no Google Drive"
      ]
    },
    {
      "cell_type": "code",
      "metadata": {
        "id": "5GxX2CVnn01E",
        "colab_type": "code",
        "colab": {}
      },
      "source": [
        "torch.save(model.state_dict(), '/content/drive/My Drive/model-vgg.pth')"
      ],
      "execution_count": 0,
      "outputs": []
    }
  ]
}